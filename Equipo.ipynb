{
  "nbformat": 4,
  "nbformat_minor": 0,
  "metadata": {
    "colab": {
      "provenance": [],
      "authorship_tag": "ABX9TyOikYDLvlRVeCrScpY9iYh8",
      "include_colab_link": true
    },
    "kernelspec": {
      "name": "python3",
      "display_name": "Python 3"
    },
    "language_info": {
      "name": "python"
    }
  },
  "cells": [
    {
      "cell_type": "markdown",
      "metadata": {
        "id": "view-in-github",
        "colab_type": "text"
      },
      "source": [
        "<a href=\"https://colab.research.google.com/github/MitziBanios/Deep_Learning/blob/main/Equipo.ipynb\" target=\"_parent\"><img src=\"https://colab.research.google.com/assets/colab-badge.svg\" alt=\"Open In Colab\"/></a>"
      ]
    },
    {
      "cell_type": "code",
      "execution_count": 1,
      "metadata": {
        "colab": {
          "base_uri": "https://localhost:8080/"
        },
        "id": "FZpztHmKJZyb",
        "outputId": "44fcbdf5-4fb3-4977-cf6e-1c082ca4697b"
      },
      "outputs": [
        {
          "output_type": "stream",
          "name": "stdout",
          "text": [
            "Collecting kaggle\n",
            "  Using cached kaggle-1.6.17-py3-none-any.whl\n",
            "Installing collected packages: kaggle\n",
            "  Attempting uninstall: kaggle\n",
            "    Found existing installation: kaggle 1.6.17\n",
            "    Uninstalling kaggle-1.6.17:\n",
            "      Successfully uninstalled kaggle-1.6.17\n",
            "Successfully installed kaggle-1.6.17\n"
          ]
        }
      ],
      "source": [
        "!pip install --upgrade --force-reinstall --no-deps kaggle"
      ]
    },
    {
      "cell_type": "code",
      "source": [
        "\n",
        "# Seleccionar el API Token personal previamente descargado (fichero kaggle.json)\n",
        "!wget https://raw.githubusercontent.com/MitziBanios/Deep_Learning/refs/heads/main/kaggle.json"
      ],
      "metadata": {
        "colab": {
          "base_uri": "https://localhost:8080/"
        },
        "id": "SLmg3mf8Jr5M",
        "outputId": "9a8edac5-1445-476f-e069-c409ab460a47"
      },
      "execution_count": 4,
      "outputs": [
        {
          "output_type": "stream",
          "name": "stdout",
          "text": [
            "--2024-10-01 22:35:33--  https://raw.githubusercontent.com/MitziBanios/Deep_Learning/refs/heads/main/kaggle.json\n",
            "Resolving raw.githubusercontent.com (raw.githubusercontent.com)... 185.199.110.133, 185.199.111.133, 185.199.108.133, ...\n",
            "Connecting to raw.githubusercontent.com (raw.githubusercontent.com)|185.199.110.133|:443... connected.\n",
            "HTTP request sent, awaiting response... 200 OK\n",
            "Length: 65 [text/plain]\n",
            "Saving to: ‘kaggle.json’\n",
            "\n",
            "\rkaggle.json           0%[                    ]       0  --.-KB/s               \rkaggle.json         100%[===================>]      65  --.-KB/s    in 0s      \n",
            "\n",
            "2024-10-01 22:35:34 (1.25 MB/s) - ‘kaggle.json’ saved [65/65]\n",
            "\n"
          ]
        }
      ]
    },
    {
      "cell_type": "code",
      "source": [
        "# Creamos un directorio en el que copiamos el fichero kaggle.json\n",
        "!mkdir ~/.kaggle\n",
        "!cp kaggle.json ~/.kaggle/\n",
        "!chmod 600 ~/.kaggle/kaggle.json"
      ],
      "metadata": {
        "id": "C57J7iDeO7Fu"
      },
      "execution_count": 6,
      "outputs": []
    },
    {
      "cell_type": "code",
      "source": [
        "# Ya podemos listar los datasets disponibles en kaggle para su descarga\n",
        "!kaggle datasets list"
      ],
      "metadata": {
        "colab": {
          "base_uri": "https://localhost:8080/"
        },
        "id": "e9HxoJ2yPH5l",
        "outputId": "0cdd5cc4-4e08-476b-b700-53ac1f9c075f"
      },
      "execution_count": 7,
      "outputs": [
        {
          "output_type": "stream",
          "name": "stdout",
          "text": [
            "ref                                                              title                                                size  lastUpdated          downloadCount  voteCount  usabilityRating  \n",
            "---------------------------------------------------------------  --------------------------------------------------  -----  -------------------  -------------  ---------  ---------------  \n",
            "lainguyn123/student-performance-factors                          Student Performance Factors                          94KB  2024-09-02 10:53:57          20104        378  1.0              \n",
            "abdulszz/spotify-most-streamed-songs                             Spotify Most Streamed Songs                          60KB  2024-09-07 18:23:14           6220         81  1.0              \n",
            "valakhorasani/mobile-device-usage-and-user-behavior-dataset      Mobile Device Usage and User Behavior Dataset        11KB  2024-09-28 20:21:12            801         29  1.0              \n",
            "owm4096/laptop-prices                                            Laptop Prices                                        25KB  2024-09-09 12:43:01           6239         94  1.0              \n",
            "cameronseamons/electronic-sales-sep2023-sep2024                  Customer purchase behavior - Electronic Sales Data  327KB  2024-09-23 01:54:36           2510         41  1.0              \n",
            "waqi786/remote-work-and-mental-health                            Remote Work & Mental Health 🌍🧠                       93KB  2024-09-22 11:44:29           2406         54  1.0              \n",
            "mohamedtarek01234/steam-games-reviews-and-rankings               Steam Games, Reviews, and Rankings.                 166MB  2024-09-23 07:53:51            693         23  1.0              \n",
            "mrmars1010/cars-india-pre-owned                                  Cars india | pre-owned                               72KB  2024-09-29 01:19:49            638         25  1.0              \n",
            "iamtanmayshukla/2024-u-s-election-generic-ballot-polling-data    2024 USA Election Polling Data                       25KB  2024-08-20 22:34:30            323        321  1.0              \n",
            "taweilo/mba-admission-dataset                                    MBA Admission dataset, Class 2025                    55KB  2024-09-18 07:57:38           2904         51  1.0              \n",
            "muhammadehsan02/us-stock-market-and-commodities-data-2020-2024   US Stock Market and Commodities Data (2020-2024)    123KB  2024-09-01 15:00:37           1415         26  1.0              \n",
            "syedfaizanalii/predict-students-dropout-and-academic-success     Predict Students Dropout and Academic Success       105KB  2024-09-28 09:41:55            503         36  1.0              \n",
            "abdelrahmanemad594/premier-league-season-2024                    Premier League Season 2024                           804B  2024-09-20 12:13:51            928         24  1.0              \n",
            "marwant1/league-of-legends-champions-2024                        League of Legends Champions 2024                     11KB  2024-09-27 19:32:45            530         24  0.88235295       \n",
            "shrishtimanja/ecommerce-dataset-for-data-analysis                Ecommerce Dataset for Data Analysis                   2MB  2024-09-19 04:41:24           1337         25  0.7058824        \n",
            "waqi786/impact-of-virtual-reality-on-education                   Impact of Virtual Reality on Education 📚🕶️           79KB  2024-09-25 11:54:14           1065         27  1.0              \n",
            "stealthtechnologies/predict-people-personality-types             Predict People Personality Types                      4MB  2024-09-14 10:58:11           2275         37  1.0              \n",
            "mexwell/employee-performance-and-productivity-data               👩🏽‍💻 Employee Performance and Productivity Data       2MB  2024-09-04 08:28:04           1836         26  1.0              \n",
            "abdullah0a/retail-sales-data-with-seasonal-trends-and-marketing  Retail Sales Data with Seasonal Trends & Marketing  610KB  2024-09-18 16:15:46           4844         62  1.0              \n",
            "mrmars1010/iphone-customer-reviews-nlp                           IPhone Customer Reviews | NLP                       350KB  2024-09-22 02:14:40           1698         31  1.0              \n"
          ]
        }
      ]
    },
    {
      "cell_type": "code",
      "source": [
        "!pip install kaggle"
      ],
      "metadata": {
        "colab": {
          "base_uri": "https://localhost:8080/"
        },
        "id": "PBL8XpbYPkrf",
        "outputId": "873b4ae0-f990-4d60-b81b-5e8e7c262989"
      },
      "execution_count": 9,
      "outputs": [
        {
          "output_type": "stream",
          "name": "stdout",
          "text": [
            "Requirement already satisfied: kaggle in /usr/local/lib/python3.10/dist-packages (1.6.17)\n",
            "Requirement already satisfied: six>=1.10 in /usr/local/lib/python3.10/dist-packages (from kaggle) (1.16.0)\n",
            "Requirement already satisfied: certifi>=2023.7.22 in /usr/local/lib/python3.10/dist-packages (from kaggle) (2024.8.30)\n",
            "Requirement already satisfied: python-dateutil in /usr/local/lib/python3.10/dist-packages (from kaggle) (2.8.2)\n",
            "Requirement already satisfied: requests in /usr/local/lib/python3.10/dist-packages (from kaggle) (2.32.3)\n",
            "Requirement already satisfied: tqdm in /usr/local/lib/python3.10/dist-packages (from kaggle) (4.66.5)\n",
            "Requirement already satisfied: python-slugify in /usr/local/lib/python3.10/dist-packages (from kaggle) (8.0.4)\n",
            "Requirement already satisfied: urllib3 in /usr/local/lib/python3.10/dist-packages (from kaggle) (2.2.3)\n",
            "Requirement already satisfied: bleach in /usr/local/lib/python3.10/dist-packages (from kaggle) (6.1.0)\n",
            "Requirement already satisfied: webencodings in /usr/local/lib/python3.10/dist-packages (from bleach->kaggle) (0.5.1)\n",
            "Requirement already satisfied: text-unidecode>=1.3 in /usr/local/lib/python3.10/dist-packages (from python-slugify->kaggle) (1.3)\n",
            "Requirement already satisfied: charset-normalizer<4,>=2 in /usr/local/lib/python3.10/dist-packages (from requests->kaggle) (3.3.2)\n",
            "Requirement already satisfied: idna<4,>=2.5 in /usr/local/lib/python3.10/dist-packages (from requests->kaggle) (3.10)\n"
          ]
        }
      ]
    },
    {
      "cell_type": "markdown",
      "source": [
        "Obtener los dataset de la API Kaggle en un archivo Excel"
      ],
      "metadata": {
        "id": "YOmpck1TRuEu"
      }
    },
    {
      "cell_type": "code",
      "source": [
        "from kaggle.api.kaggle_api_extended import KaggleApi\n",
        "import pandas as pd\n",
        "\n",
        "api = KaggleApi()\n",
        "api.authenticate()\n",
        "\n",
        "datasets = api.dataset_list(search=\"\", user=None, mine=False)\n",
        "df = pd.DataFrame([dataset.__dict__ for dataset in datasets])\n",
        "df.to_excel(\"datasets.xlsx\", index=False)"
      ],
      "metadata": {
        "id": "Ml5GRYqvQGpe"
      },
      "execution_count": 10,
      "outputs": []
    },
    {
      "cell_type": "markdown",
      "source": [
        "Desacargar el archivo en el ordenador"
      ],
      "metadata": {
        "id": "XCK6d-41Rq3E"
      }
    },
    {
      "cell_type": "code",
      "source": [
        "from google.colab import files\n",
        "files.download('datasets.xlsx')"
      ],
      "metadata": {
        "colab": {
          "base_uri": "https://localhost:8080/",
          "height": 17
        },
        "id": "NohreRWhQYwB",
        "outputId": "19d7c771-5513-46ff-c58e-585f390853dc"
      },
      "execution_count": 11,
      "outputs": [
        {
          "output_type": "display_data",
          "data": {
            "text/plain": [
              "<IPython.core.display.Javascript object>"
            ],
            "application/javascript": [
              "\n",
              "    async function download(id, filename, size) {\n",
              "      if (!google.colab.kernel.accessAllowed) {\n",
              "        return;\n",
              "      }\n",
              "      const div = document.createElement('div');\n",
              "      const label = document.createElement('label');\n",
              "      label.textContent = `Downloading \"${filename}\": `;\n",
              "      div.appendChild(label);\n",
              "      const progress = document.createElement('progress');\n",
              "      progress.max = size;\n",
              "      div.appendChild(progress);\n",
              "      document.body.appendChild(div);\n",
              "\n",
              "      const buffers = [];\n",
              "      let downloaded = 0;\n",
              "\n",
              "      const channel = await google.colab.kernel.comms.open(id);\n",
              "      // Send a message to notify the kernel that we're ready.\n",
              "      channel.send({})\n",
              "\n",
              "      for await (const message of channel.messages) {\n",
              "        // Send a message to notify the kernel that we're ready.\n",
              "        channel.send({})\n",
              "        if (message.buffers) {\n",
              "          for (const buffer of message.buffers) {\n",
              "            buffers.push(buffer);\n",
              "            downloaded += buffer.byteLength;\n",
              "            progress.value = downloaded;\n",
              "          }\n",
              "        }\n",
              "      }\n",
              "      const blob = new Blob(buffers, {type: 'application/binary'});\n",
              "      const a = document.createElement('a');\n",
              "      a.href = window.URL.createObjectURL(blob);\n",
              "      a.download = filename;\n",
              "      div.appendChild(a);\n",
              "      a.click();\n",
              "      div.remove();\n",
              "    }\n",
              "  "
            ]
          },
          "metadata": {}
        },
        {
          "output_type": "display_data",
          "data": {
            "text/plain": [
              "<IPython.core.display.Javascript object>"
            ],
            "application/javascript": [
              "download(\"download_874904b2-ceec-4266-b73c-cd3de4392bc7\", \"datasets.xlsx\", 12444)"
            ]
          },
          "metadata": {}
        }
      ]
    }
  ]
}